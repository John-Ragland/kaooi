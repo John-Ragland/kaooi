{
 "cells": [
  {
   "cell_type": "markdown",
   "id": "2e71ce59-8122-4be6-98eb-89dbda3d2b3c",
   "metadata": {},
   "source": [
    "# Design pipeline\n",
    "- design python based data processing python for analysis of kauai source receptions at OOI hydrophones"
   ]
  },
  {
   "cell_type": "code",
   "execution_count": 1,
   "id": "233cd16c-6454-4cb0-81fa-0341c87312ba",
   "metadata": {},
   "outputs": [],
   "source": [
    "import xarray as xr\n",
    "import pandas as pd\n",
    "import numpy as np\n",
    "from matplotlib import pyplot as plt\n",
    "import ooipy\n",
    "from datetime import datetime\n",
    "from tqdm import tqdm"
   ]
  },
  {
   "cell_type": "code",
   "execution_count": null,
   "id": "40868622-1e70-4a90-8656-3aad44c4e36f",
   "metadata": {},
   "outputs": [],
   "source": [
    "def get_Tx_keytimes(year : int) -> list:\n",
    "    '''\n",
    "    get_Tx_keytimes - given the year, return a list of pd.Timestamps that "
   ]
  },
  {
   "cell_type": "code",
   "execution_count": 2,
   "id": "c3e948a6-8c50-45fc-8672-8e898191b0db",
   "metadata": {},
   "outputs": [
    {
     "ename": "SyntaxError",
     "evalue": "incomplete input (2575476371.py, line 2)",
     "output_type": "error",
     "traceback": [
      "\u001b[0;36m  Input \u001b[0;32mIn [2]\u001b[0;36m\u001b[0m\n\u001b[0;31m    '''\u001b[0m\n\u001b[0m    ^\u001b[0m\n\u001b[0;31mSyntaxError\u001b[0m\u001b[0;31m:\u001b[0m incomplete input\n"
     ]
    }
   ],
   "source": [
    "def download_data(start_time):\n",
    "    '''\n",
    "    download_data - given start time and length of data, return\n",
    "        xr.Dataset of hydrophone for every bb hydrophone\n",
    "    \n",
    "    Parameters\n",
    "    ----------\n",
    "    start_time : pd.Timestamp\n",
    "        start time of data to pull\n",
    "    \n",
    "    Returns\n",
    "    -------\n",
    "    xr.D\n",
    "    "
   ]
  },
  {
   "cell_type": "code",
   "execution_count": null,
   "id": "9c824426-829d-48bc-a6f8-6764ab3fc4dd",
   "metadata": {},
   "outputs": [],
   "source": [
    "start_time = datetime(2023,3,18,0,0,0)\n",
    "end_time = datetime(2023, 3, 18, 0, 0, 1)\n",
    "\n",
    "nodes = ['LJ01A', 'PC01A', 'PC03A', 'LJ01C']\n",
    "hdata = {}\n",
    "\n",
    "for node in tqdm(nodes):\n",
    "    hdata[node] = ooipy.get_acoustic_data(start_time, end_time, node)\n",
    "    \n",
    "    #hdata[node].decimate(8)\n",
    "    #hdata[node].decimate(8)"
   ]
  },
  {
   "cell_type": "markdown",
   "id": "0b13b612-3513-4cce-82bc-67fc2d31f053",
   "metadata": {},
   "source": [
    "construct dataset"
   ]
  },
  {
   "cell_type": "code",
   "execution_count": null,
   "id": "a3a9618f-1dc4-4a32-b275-4d3c5b638313",
   "metadata": {},
   "outputs": [],
   "source": [
    "hdata_x = {}\n",
    "for node in nodes:\n",
    "    hdata_x[node] = xr.DataArray(\n",
    "        np.expand_dims(hdata[node].data, 1),\n",
    "        dims=['time', 'transmission'],\n",
    "        coords={'transmission':[pd.Timestamp('2023-03-18 T00:00:00')]},\n",
    "        name=node,\n",
    "        attrs=hdata[node].stats)"
   ]
  },
  {
   "cell_type": "code",
   "execution_count": null,
   "id": "51676775-bf41-4189-b7bf-697930450c19",
   "metadata": {},
   "outputs": [],
   "source": [
    "ds"
   ]
  },
  {
   "cell_type": "code",
   "execution_count": null,
   "id": "a6eadd72-a8eb-4ef3-8aa3-fb77cfe90424",
   "metadata": {},
   "outputs": [],
   "source": []
  }
 ],
 "metadata": {
  "kernelspec": {
   "display_name": "Python 3 (ipykernel)",
   "language": "python",
   "name": "python3"
  },
  "language_info": {
   "codemirror_mode": {
    "name": "ipython",
    "version": 3
   },
   "file_extension": ".py",
   "mimetype": "text/x-python",
   "name": "python",
   "nbconvert_exporter": "python",
   "pygments_lexer": "ipython3",
   "version": "3.10.4"
  }
 },
 "nbformat": 4,
 "nbformat_minor": 5
}
