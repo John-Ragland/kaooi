{
 "cells": [
  {
   "cell_type": "markdown",
   "id": "03a959e7-a137-41a5-aa3d-3412cd6f0d19",
   "metadata": {},
   "source": [
    "# Checking broadband data"
   ]
  },
  {
   "cell_type": "code",
   "execution_count": 20,
   "id": "90881e8e-0bb1-4ef2-ae86-5f2350fe0c0e",
   "metadata": {},
   "outputs": [
    {
     "name": "stdout",
     "output_type": "stream",
     "text": [
      "The autoreload extension is already loaded. To reload it, use:\n",
      "  %reload_ext autoreload\n"
     ]
    }
   ],
   "source": [
    "import ooipy\n",
    "import numpy\n",
    "import obspy\n",
    "from datetime import datetime\n",
    "import kaooi\n",
    "import xarray as xr\n",
    "\n",
    "%load_ext autoreload \n",
    "%autoreload 2\n"
   ]
  },
  {
   "cell_type": "code",
   "execution_count": 13,
   "id": "9d311aee-f73e-4587-bb52-09618928633e",
   "metadata": {},
   "outputs": [
    {
     "data": {
      "text/plain": [
       "'1.2.1.dev16'"
      ]
     },
     "execution_count": 13,
     "metadata": {},
     "output_type": "execute_result"
    }
   ],
   "source": [
    "ooipy.__version__"
   ]
  },
  {
   "cell_type": "code",
   "execution_count": 12,
   "id": "fdb1cfa0-e10d-4e72-a8d9-f550d85f15c3",
   "metadata": {},
   "outputs": [
    {
     "name": "stdout",
     "output_type": "stream",
     "text": [
      "Fetching URLs...\n",
      "Sorting valid URLs for Time Window...\n",
      "Downloading mseed files...\n"
     ]
    },
    {
     "name": "stderr",
     "output_type": "stream",
     "text": [
      "100%|███████████████████████████████████████████| 26/26 [00:21<00:00,  1.19it/s]\n"
     ]
    },
    {
     "name": "stdout",
     "output_type": "stream",
     "text": [
      "Merging Data...\n",
      "number of traces: 1078\n",
      "merging segments...\n",
      "number of new segments 33\n",
      "merging merged segments...\n",
      "merging with 4 cores\n",
      "Data has Gaps\n",
      "CPU times: user 1min 31s, sys: 1min 43s, total: 3min 14s\n",
      "Wall time: 3min 16s\n"
     ]
    }
   ],
   "source": [
    "%%time\n",
    "node='LJ01C'\n",
    "starttime = datetime(2024,1,2,0)\n",
    "endtime = datetime(2024,1,2,2)\n",
    "\n",
    "hdata = ooipy.get_acoustic_data(starttime, endtime, node, verbose=True)"
   ]
  },
  {
   "cell_type": "code",
   "execution_count": 21,
   "id": "e103d4e9-76cd-407c-a7a9-8ff720d5cbbc",
   "metadata": {},
   "outputs": [],
   "source": [
    "fn = '/datadrive/kauai/transmissions/ooi_bb/20230318T000000.nc'\n",
    "\n",
    "ds = xr.open_dataset(fn)"
   ]
  },
  {
   "cell_type": "code",
   "execution_count": 24,
   "id": "3ba40401-b8ea-4a6d-90d0-b2c9891f3b1b",
   "metadata": {},
   "outputs": [
    {
     "data": {
      "text/plain": [
       "[<matplotlib.lines.Line2D at 0x7f86d0991ab0>]"
      ]
     },
     "execution_count": 24,
     "metadata": {},
     "output_type": "execute_result"
    },
    {
     "data": {
      "image/png": "[encoded data removed]",
      "text/plain": [
       "<Figure size 432x288 with 1 Axes>"
      ]
     },
     "metadata": {
      "needs_background": "light"
     },
     "output_type": "display_data"
    }
   ],
   "source": [
    "ds['LJ01C'].plot()"
   ]
  },
  {
   "cell_type": "code",
   "execution_count": null,
   "id": "2275b26d-b311-4cbf-a78a-71842bca23e5",
   "metadata": {},
   "outputs": [],
   "source": []
  }
 ],
 "metadata": {
  "kernelspec": {
   "display_name": "Python 3 (ipykernel)",
   "language": "python",
   "name": "python3"
  },
  "language_info": {
   "codemirror_mode": {
    "name": "ipython",
    "version": 3
   },
   "file_extension": ".py",
   "mimetype": "text/x-python",
   "name": "python",
   "nbconvert_exporter": "python",
   "pygments_lexer": "ipython3",
   "version": "3.10.4"
  }
 },
 "nbformat": 4,
 "nbformat_minor": 5
}
