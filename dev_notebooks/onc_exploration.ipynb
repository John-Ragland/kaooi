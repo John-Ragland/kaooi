{
 "cells": [
  {
   "cell_type": "markdown",
   "id": "7c3e3171-97af-438c-8257-d58aec3eb91f",
   "metadata": {},
   "source": [
    "# ONC Exploration"
   ]
  },
  {
   "cell_type": "code",
   "execution_count": 6,
   "id": "6b179814-ff65-4cc7-b451-ac28a4c923dd",
   "metadata": {},
   "outputs": [
    {
     "name": "stdin",
     "output_type": "stream",
     "text": [
      " Go to https://data.oceannetworks.ca/Profile and retrieve your Webservices API Token ········\n"
     ]
    }
   ],
   "source": [
    "import requests\n",
    "import pandas as pd\n",
    "import json\n",
    "from getpass import getpass\n",
    "token = getpass(' Go to https://data.oceannetworks.ca/Profile and retrieve your Webservices API Token')"
   ]
  },
  {
   "cell_type": "code",
   "execution_count": 7,
   "id": "0391dec3-1912-4913-8c6e-fa4ab96d8819",
   "metadata": {},
   "outputs": [],
   "source": [
    "# define the basic request query code snippet\n",
    "\n",
    "def request_query(url,df=True):\n",
    "    parameters = {'method':'get',\n",
    "            'token':token}\n",
    "\n",
    "    response = requests.get(url,params=parameters)\n",
    "    #Handling the response fromt the query\n",
    "    if (response.ok):\n",
    "        if df:\n",
    "            # write the info from query in a pandas dataframe\n",
    "            df = pd.DataFrame(response.json()) # convert the json response to an object and load into a dataframe object\n",
    "            return(df)\n",
    "        else:\n",
    "            return(response)\n",
    "    else:\n",
    "        if(response.status_code == 400):\n",
    "            error = json.loads(str(response.content,'utf-8'))\n",
    "            print(error) # json response contains a list of errors, with an errorMessage and parameter\n",
    "        else:\n",
    "            print ('Error {} - {}'.format(response.status_code,response.reason))"
   ]
  },
  {
   "cell_type": "code",
   "execution_count": 8,
   "id": "34618a15-d47a-4bdc-af98-a5d73d8d2761",
   "metadata": {},
   "outputs": [],
   "source": [
    "# Use the location services and the instrument category \"Hydrophone\" to list all locations\n",
    "# where these type of instruments where installed over time\n",
    "\n",
    "url ='https://data.oceannetworks.ca/api/locations?deviceCategoryCode=HYDROPHONE'\n",
    "\n",
    "df = request_query(url)"
   ]
  },
  {
   "cell_type": "code",
   "execution_count": 22,
   "id": "0dac1715-6bd7-4b9a-aec5-a063c3e49379",
   "metadata": {},
   "outputs": [
    {
     "data": {
      "text/plain": [
       "deployments                                                        1\n",
       "locationName                                            Hydrophone A\n",
       "depth                                                          641.0\n",
       "bbox               {'maxDepth': 641.0, 'maxLat': 48.345174, 'maxL...\n",
       "description         Hydrophone at position A in a box-type array ...\n",
       "hasDeviceData                                                   true\n",
       "lon                                                      -126.157316\n",
       "locationCode                                                BACNH.H1\n",
       "hasPropertyData                                                false\n",
       "lat                                                        48.345174\n",
       "dataSearchURL      https://data.oceannetworks.ca/DataSearch?locat...\n",
       "Name: 2, dtype: object"
      ]
     },
     "execution_count": 22,
     "metadata": {},
     "output_type": "execute_result"
    }
   ],
   "source": [
    "df.loc[2]"
   ]
  },
  {
   "cell_type": "code",
   "execution_count": 23,
   "id": "7c601778-5f78-4b65-aebf-fe3573740dca",
   "metadata": {},
   "outputs": [],
   "source": [
    "locCode = df.loc[2]['locationCode']\n",
    "url  ='https://data.oceannetworks.ca/api/deployments?deviceCategoryCode=HYDROPHONE&locationCode='+locCode"
   ]
  },
  {
   "cell_type": "code",
   "execution_count": 25,
   "id": "b48cccfb-4616-4748-ae2e-7c4e956ba0f0",
   "metadata": {},
   "outputs": [],
   "source": [
    "df_depl = request_query(url)"
   ]
  },
  {
   "cell_type": "code",
   "execution_count": 26,
   "id": "9d5723d0-a42f-44a5-a05c-b47328d36ba9",
   "metadata": {},
   "outputs": [
    {
     "data": {
      "text/html": [
       "<div>\n",
       "<style scoped>\n",
       "    .dataframe tbody tr th:only-of-type {\n",
       "        vertical-align: middle;\n",
       "    }\n",
       "\n",
       "    .dataframe tbody tr th {\n",
       "        vertical-align: top;\n",
       "    }\n",
       "\n",
       "    .dataframe thead th {\n",
       "        text-align: right;\n",
       "    }\n",
       "</style>\n",
       "<table border=\"1\" class=\"dataframe\">\n",
       "  <thead>\n",
       "    <tr style=\"text-align: right;\">\n",
       "      <th></th>\n",
       "      <th>begin</th>\n",
       "      <th>citation</th>\n",
       "      <th>depth</th>\n",
       "      <th>deviceCategoryCode</th>\n",
       "      <th>deviceCode</th>\n",
       "      <th>end</th>\n",
       "      <th>hasDeviceData</th>\n",
       "      <th>heading</th>\n",
       "      <th>lat</th>\n",
       "      <th>locationCode</th>\n",
       "      <th>lon</th>\n",
       "      <th>pitch</th>\n",
       "      <th>roll</th>\n",
       "    </tr>\n",
       "  </thead>\n",
       "  <tbody>\n",
       "    <tr>\n",
       "      <th>0</th>\n",
       "      <td>2021-02-10T21:11:00.000Z</td>\n",
       "      <td>Ocean Networks Canada Society. 2021. Barkley C...</td>\n",
       "      <td>641.0</td>\n",
       "      <td>HYDROPHONE</td>\n",
       "      <td>ICLISTENHF6095</td>\n",
       "      <td>None</td>\n",
       "      <td>True</td>\n",
       "      <td>106.0</td>\n",
       "      <td>48.345174</td>\n",
       "      <td>BACNH.H1</td>\n",
       "      <td>-126.157316</td>\n",
       "      <td>None</td>\n",
       "      <td>None</td>\n",
       "    </tr>\n",
       "  </tbody>\n",
       "</table>\n",
       "</div>"
      ],
      "text/plain": [
       "                      begin  \\\n",
       "0  2021-02-10T21:11:00.000Z   \n",
       "\n",
       "                                            citation  depth  \\\n",
       "0  Ocean Networks Canada Society. 2021. Barkley C...  641.0   \n",
       "\n",
       "  deviceCategoryCode      deviceCode   end  hasDeviceData  heading        lat  \\\n",
       "0         HYDROPHONE  ICLISTENHF6095  None           True    106.0  48.345174   \n",
       "\n",
       "  locationCode         lon pitch  roll  \n",
       "0     BACNH.H1 -126.157316  None  None  "
      ]
     },
     "execution_count": 26,
     "metadata": {},
     "output_type": "execute_result"
    }
   ],
   "source": [
    "df_depl"
   ]
  },
  {
   "cell_type": "code",
   "execution_count": 10,
   "id": "31a942b9-c50d-4dbc-938e-77a102fa79bc",
   "metadata": {},
   "outputs": [],
   "source": [
    "# Query the deployment services with instrument category \"Hydrophone\" and location identifier \"locationCode\" from\n",
    "# the previous results\n",
    "\n",
    "df2 = pd.DataFrame(columns=['locationCode','begin','end','deviceCode','lat','lon','depth','hasDeviceData'])\n",
    "for locCode in df['locationCode']:\n",
    "    url  ='https://data.oceannetworks.ca/api/deployments?deviceCategoryCode=HYDROPHONE&locationCode='+locCode\n",
    "    df_depl = request_query(url)\n",
    "    # cutting out some columns that are not useful for the moment, you can leave the next line out and it will be\n",
    "    # included into the full dataframe\n",
    "\n",
    "    df_depl = df_depl[['locationCode','begin','end','deviceCode','lat','lon','depth','hasDeviceData']]\n",
    "    df2 = pd.concat([df2,df_depl])"
   ]
  },
  {
   "cell_type": "code",
   "execution_count": 16,
   "id": "046430f7-6ae6-4af6-8c01-d62456825e79",
   "metadata": {},
   "outputs": [
    {
     "data": {
      "text/html": [
       "<div>\n",
       "<style scoped>\n",
       "    .dataframe tbody tr th:only-of-type {\n",
       "        vertical-align: middle;\n",
       "    }\n",
       "\n",
       "    .dataframe tbody tr th {\n",
       "        vertical-align: top;\n",
       "    }\n",
       "\n",
       "    .dataframe thead th {\n",
       "        text-align: right;\n",
       "    }\n",
       "</style>\n",
       "<table border=\"1\" class=\"dataframe\">\n",
       "  <thead>\n",
       "    <tr style=\"text-align: right;\">\n",
       "      <th></th>\n",
       "      <th>locationCode</th>\n",
       "      <th>begin</th>\n",
       "      <th>end</th>\n",
       "      <th>deviceCode</th>\n",
       "      <th>lat</th>\n",
       "      <th>lon</th>\n",
       "      <th>depth</th>\n",
       "      <th>hasDeviceData</th>\n",
       "    </tr>\n",
       "  </thead>\n",
       "  <tbody>\n",
       "    <tr>\n",
       "      <th>0</th>\n",
       "      <td>BACND</td>\n",
       "      <td>2018-06-22T03:05:27.000Z</td>\n",
       "      <td>2019-09-17T01:11:56.000Z</td>\n",
       "      <td>ICLISTENHF1252</td>\n",
       "      <td>48.345900</td>\n",
       "      <td>-126.157938</td>\n",
       "      <td>647.0</td>\n",
       "      <td>True</td>\n",
       "    </tr>\n",
       "    <tr>\n",
       "      <th>1</th>\n",
       "      <td>BACND</td>\n",
       "      <td>2019-09-17T01:11:56.000Z</td>\n",
       "      <td>2020-06-01T21:37:15.000Z</td>\n",
       "      <td>ICLISTENHF1252</td>\n",
       "      <td>48.345773</td>\n",
       "      <td>-126.157685</td>\n",
       "      <td>643.0</td>\n",
       "      <td>True</td>\n",
       "    </tr>\n",
       "    <tr>\n",
       "      <th>2</th>\n",
       "      <td>BACND</td>\n",
       "      <td>2022-05-21T00:57:21.000Z</td>\n",
       "      <td>2023-07-16T21:00:33.000Z</td>\n",
       "      <td>ICLISTENHF1252</td>\n",
       "      <td>48.345501</td>\n",
       "      <td>-126.158262</td>\n",
       "      <td>649.0</td>\n",
       "      <td>True</td>\n",
       "    </tr>\n",
       "  </tbody>\n",
       "</table>\n",
       "</div>"
      ],
      "text/plain": [
       "  locationCode                     begin                       end  \\\n",
       "0        BACND  2018-06-22T03:05:27.000Z  2019-09-17T01:11:56.000Z   \n",
       "1        BACND  2019-09-17T01:11:56.000Z  2020-06-01T21:37:15.000Z   \n",
       "2        BACND  2022-05-21T00:57:21.000Z  2023-07-16T21:00:33.000Z   \n",
       "\n",
       "       deviceCode        lat         lon  depth hasDeviceData  \n",
       "0  ICLISTENHF1252  48.345900 -126.157938  647.0          True  \n",
       "1  ICLISTENHF1252  48.345773 -126.157685  643.0          True  \n",
       "2  ICLISTENHF1252  48.345501 -126.158262  649.0          True  "
      ]
     },
     "execution_count": 16,
     "metadata": {},
     "output_type": "execute_result"
    }
   ],
   "source": [
    "df2[df2['locationCode']=='BACND']"
   ]
  },
  {
   "cell_type": "code",
   "execution_count": 30,
   "id": "6889eed7-fc73-4aed-a74c-c38c9d691911",
   "metadata": {},
   "outputs": [
    {
     "ename": "ValueError",
     "evalue": "All arrays must be of the same length",
     "output_type": "error",
     "traceback": [
      "\u001b[0;31m---------------------------------------------------------------------------\u001b[0m",
      "\u001b[0;31mValueError\u001b[0m                                Traceback (most recent call last)",
      "Input \u001b[0;32mIn [30]\u001b[0m, in \u001b[0;36m<cell line: 4>\u001b[0;34m()\u001b[0m\n\u001b[1;32m      1\u001b[0m url \u001b[38;5;241m=\u001b[39m(\u001b[38;5;124m'\u001b[39m\u001b[38;5;124mhttps://data.oceannetworks.ca/api/archivefile-location?locationCode=NC89.H1&deviceCategoryCode=HYDROPHONE&\u001b[39m\u001b[38;5;124m'\u001b[39m\n\u001b[1;32m      2\u001b[0m       \u001b[38;5;124m'\u001b[39m\u001b[38;5;124mdateFrom=2016-06-25&dateTo=2016-07-04&fileExtension=wav&dataProductCode=AD&returnOptions=all\u001b[39m\u001b[38;5;124m'\u001b[39m)\n\u001b[0;32m----> 4\u001b[0m response \u001b[38;5;241m=\u001b[39m \u001b[43mrequest_query\u001b[49m\u001b[43m(\u001b[49m\u001b[43murl\u001b[49m\u001b[43m)\u001b[49m\n",
      "Input \u001b[0;32mIn [7]\u001b[0m, in \u001b[0;36mrequest_query\u001b[0;34m(url, df)\u001b[0m\n\u001b[1;32m      9\u001b[0m \u001b[38;5;28;01mif\u001b[39;00m (response\u001b[38;5;241m.\u001b[39mok):\n\u001b[1;32m     10\u001b[0m     \u001b[38;5;28;01mif\u001b[39;00m df:\n\u001b[1;32m     11\u001b[0m         \u001b[38;5;66;03m# write the info from query in a pandas dataframe\u001b[39;00m\n\u001b[0;32m---> 12\u001b[0m         df \u001b[38;5;241m=\u001b[39m \u001b[43mpd\u001b[49m\u001b[38;5;241;43m.\u001b[39;49m\u001b[43mDataFrame\u001b[49m\u001b[43m(\u001b[49m\u001b[43mresponse\u001b[49m\u001b[38;5;241;43m.\u001b[39;49m\u001b[43mjson\u001b[49m\u001b[43m(\u001b[49m\u001b[43m)\u001b[49m\u001b[43m)\u001b[49m \u001b[38;5;66;03m# convert the json response to an object and load into a dataframe object\u001b[39;00m\n\u001b[1;32m     13\u001b[0m         \u001b[38;5;28;01mreturn\u001b[39;00m(df)\n\u001b[1;32m     14\u001b[0m     \u001b[38;5;28;01melse\u001b[39;00m:\n",
      "File \u001b[0;32m~/anaconda3/envs/ooi_dev_archive/lib/python3.10/site-packages/pandas/core/frame.py:636\u001b[0m, in \u001b[0;36mDataFrame.__init__\u001b[0;34m(self, data, index, columns, dtype, copy)\u001b[0m\n\u001b[1;32m    630\u001b[0m     mgr \u001b[38;5;241m=\u001b[39m \u001b[38;5;28mself\u001b[39m\u001b[38;5;241m.\u001b[39m_init_mgr(\n\u001b[1;32m    631\u001b[0m         data, axes\u001b[38;5;241m=\u001b[39m{\u001b[38;5;124m\"\u001b[39m\u001b[38;5;124mindex\u001b[39m\u001b[38;5;124m\"\u001b[39m: index, \u001b[38;5;124m\"\u001b[39m\u001b[38;5;124mcolumns\u001b[39m\u001b[38;5;124m\"\u001b[39m: columns}, dtype\u001b[38;5;241m=\u001b[39mdtype, copy\u001b[38;5;241m=\u001b[39mcopy\n\u001b[1;32m    632\u001b[0m     )\n\u001b[1;32m    634\u001b[0m \u001b[38;5;28;01melif\u001b[39;00m \u001b[38;5;28misinstance\u001b[39m(data, \u001b[38;5;28mdict\u001b[39m):\n\u001b[1;32m    635\u001b[0m     \u001b[38;5;66;03m# GH#38939 de facto copy defaults to False only in non-dict cases\u001b[39;00m\n\u001b[0;32m--> 636\u001b[0m     mgr \u001b[38;5;241m=\u001b[39m \u001b[43mdict_to_mgr\u001b[49m\u001b[43m(\u001b[49m\u001b[43mdata\u001b[49m\u001b[43m,\u001b[49m\u001b[43m \u001b[49m\u001b[43mindex\u001b[49m\u001b[43m,\u001b[49m\u001b[43m \u001b[49m\u001b[43mcolumns\u001b[49m\u001b[43m,\u001b[49m\u001b[43m \u001b[49m\u001b[43mdtype\u001b[49m\u001b[38;5;241;43m=\u001b[39;49m\u001b[43mdtype\u001b[49m\u001b[43m,\u001b[49m\u001b[43m \u001b[49m\u001b[43mcopy\u001b[49m\u001b[38;5;241;43m=\u001b[39;49m\u001b[43mcopy\u001b[49m\u001b[43m,\u001b[49m\u001b[43m \u001b[49m\u001b[43mtyp\u001b[49m\u001b[38;5;241;43m=\u001b[39;49m\u001b[43mmanager\u001b[49m\u001b[43m)\u001b[49m\n\u001b[1;32m    637\u001b[0m \u001b[38;5;28;01melif\u001b[39;00m \u001b[38;5;28misinstance\u001b[39m(data, ma\u001b[38;5;241m.\u001b[39mMaskedArray):\n\u001b[1;32m    638\u001b[0m     \u001b[38;5;28;01mimport\u001b[39;00m \u001b[38;5;21;01mnumpy\u001b[39;00m\u001b[38;5;21;01m.\u001b[39;00m\u001b[38;5;21;01mma\u001b[39;00m\u001b[38;5;21;01m.\u001b[39;00m\u001b[38;5;21;01mmrecords\u001b[39;00m \u001b[38;5;28;01mas\u001b[39;00m \u001b[38;5;21;01mmrecords\u001b[39;00m\n",
      "File \u001b[0;32m~/anaconda3/envs/ooi_dev_archive/lib/python3.10/site-packages/pandas/core/internals/construction.py:502\u001b[0m, in \u001b[0;36mdict_to_mgr\u001b[0;34m(data, index, columns, dtype, typ, copy)\u001b[0m\n\u001b[1;32m    494\u001b[0m     arrays \u001b[38;5;241m=\u001b[39m [\n\u001b[1;32m    495\u001b[0m         x\n\u001b[1;32m    496\u001b[0m         \u001b[38;5;28;01mif\u001b[39;00m \u001b[38;5;129;01mnot\u001b[39;00m \u001b[38;5;28mhasattr\u001b[39m(x, \u001b[38;5;124m\"\u001b[39m\u001b[38;5;124mdtype\u001b[39m\u001b[38;5;124m\"\u001b[39m) \u001b[38;5;129;01mor\u001b[39;00m \u001b[38;5;129;01mnot\u001b[39;00m \u001b[38;5;28misinstance\u001b[39m(x\u001b[38;5;241m.\u001b[39mdtype, ExtensionDtype)\n\u001b[1;32m    497\u001b[0m         \u001b[38;5;28;01melse\u001b[39;00m x\u001b[38;5;241m.\u001b[39mcopy()\n\u001b[1;32m    498\u001b[0m         \u001b[38;5;28;01mfor\u001b[39;00m x \u001b[38;5;129;01min\u001b[39;00m arrays\n\u001b[1;32m    499\u001b[0m     ]\n\u001b[1;32m    500\u001b[0m     \u001b[38;5;66;03m# TODO: can we get rid of the dt64tz special case above?\u001b[39;00m\n\u001b[0;32m--> 502\u001b[0m \u001b[38;5;28;01mreturn\u001b[39;00m \u001b[43marrays_to_mgr\u001b[49m\u001b[43m(\u001b[49m\u001b[43marrays\u001b[49m\u001b[43m,\u001b[49m\u001b[43m \u001b[49m\u001b[43mcolumns\u001b[49m\u001b[43m,\u001b[49m\u001b[43m \u001b[49m\u001b[43mindex\u001b[49m\u001b[43m,\u001b[49m\u001b[43m \u001b[49m\u001b[43mdtype\u001b[49m\u001b[38;5;241;43m=\u001b[39;49m\u001b[43mdtype\u001b[49m\u001b[43m,\u001b[49m\u001b[43m \u001b[49m\u001b[43mtyp\u001b[49m\u001b[38;5;241;43m=\u001b[39;49m\u001b[43mtyp\u001b[49m\u001b[43m,\u001b[49m\u001b[43m \u001b[49m\u001b[43mconsolidate\u001b[49m\u001b[38;5;241;43m=\u001b[39;49m\u001b[43mcopy\u001b[49m\u001b[43m)\u001b[49m\n",
      "File \u001b[0;32m~/anaconda3/envs/ooi_dev_archive/lib/python3.10/site-packages/pandas/core/internals/construction.py:120\u001b[0m, in \u001b[0;36marrays_to_mgr\u001b[0;34m(arrays, columns, index, dtype, verify_integrity, typ, consolidate)\u001b[0m\n\u001b[1;32m    117\u001b[0m \u001b[38;5;28;01mif\u001b[39;00m verify_integrity:\n\u001b[1;32m    118\u001b[0m     \u001b[38;5;66;03m# figure out the index, if necessary\u001b[39;00m\n\u001b[1;32m    119\u001b[0m     \u001b[38;5;28;01mif\u001b[39;00m index \u001b[38;5;129;01mis\u001b[39;00m \u001b[38;5;28;01mNone\u001b[39;00m:\n\u001b[0;32m--> 120\u001b[0m         index \u001b[38;5;241m=\u001b[39m \u001b[43m_extract_index\u001b[49m\u001b[43m(\u001b[49m\u001b[43marrays\u001b[49m\u001b[43m)\u001b[49m\n\u001b[1;32m    121\u001b[0m     \u001b[38;5;28;01melse\u001b[39;00m:\n\u001b[1;32m    122\u001b[0m         index \u001b[38;5;241m=\u001b[39m ensure_index(index)\n",
      "File \u001b[0;32m~/anaconda3/envs/ooi_dev_archive/lib/python3.10/site-packages/pandas/core/internals/construction.py:674\u001b[0m, in \u001b[0;36m_extract_index\u001b[0;34m(data)\u001b[0m\n\u001b[1;32m    672\u001b[0m lengths \u001b[38;5;241m=\u001b[39m \u001b[38;5;28mlist\u001b[39m(\u001b[38;5;28mset\u001b[39m(raw_lengths))\n\u001b[1;32m    673\u001b[0m \u001b[38;5;28;01mif\u001b[39;00m \u001b[38;5;28mlen\u001b[39m(lengths) \u001b[38;5;241m>\u001b[39m \u001b[38;5;241m1\u001b[39m:\n\u001b[0;32m--> 674\u001b[0m     \u001b[38;5;28;01mraise\u001b[39;00m \u001b[38;5;167;01mValueError\u001b[39;00m(\u001b[38;5;124m\"\u001b[39m\u001b[38;5;124mAll arrays must be of the same length\u001b[39m\u001b[38;5;124m\"\u001b[39m)\n\u001b[1;32m    676\u001b[0m \u001b[38;5;28;01mif\u001b[39;00m have_dicts:\n\u001b[1;32m    677\u001b[0m     \u001b[38;5;28;01mraise\u001b[39;00m \u001b[38;5;167;01mValueError\u001b[39;00m(\n\u001b[1;32m    678\u001b[0m         \u001b[38;5;124m\"\u001b[39m\u001b[38;5;124mMixing dicts with non-Series may lead to ambiguous ordering.\u001b[39m\u001b[38;5;124m\"\u001b[39m\n\u001b[1;32m    679\u001b[0m     )\n",
      "\u001b[0;31mValueError\u001b[0m: All arrays must be of the same length"
     ]
    }
   ],
   "source": [
    "url =('https://data.oceannetworks.ca/api/archivefile-location?locationCode=NC89.H1&deviceCategoryCode=HYDROPHONE&'\n",
    "      'dateFrom=2016-06-25&dateTo=2016-07-04&fileExtension=wav&dataProductCode=AD&returnOptions=all')\n",
    "\n",
    "response = request_query(url)"
   ]
  },
  {
   "cell_type": "code",
   "execution_count": null,
   "id": "6a7df278-be66-491c-a43e-2febcc40ab99",
   "metadata": {},
   "outputs": [],
   "source": [
    "response"
   ]
  },
  {
   "cell_type": "code",
   "execution_count": null,
   "id": "9736fbe2-0ea1-4796-8fbe-a378fd53c85b",
   "metadata": {},
   "outputs": [],
   "source": []
  }
 ],
 "metadata": {
  "kernelspec": {
   "display_name": "Python 3 (ipykernel)",
   "language": "python",
   "name": "python3"
  },
  "language_info": {
   "codemirror_mode": {
    "name": "ipython",
    "version": 3
   },
   "file_extension": ".py",
   "mimetype": "text/x-python",
   "name": "python",
   "nbconvert_exporter": "python",
   "pygments_lexer": "ipython3",
   "version": "3.10.4"
  }
 },
 "nbformat": 4,
 "nbformat_minor": 5
}
