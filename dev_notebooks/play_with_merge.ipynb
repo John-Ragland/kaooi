{
 "cells": [
  {
   "cell_type": "markdown",
   "id": "a6e02fce-d907-4bc3-bf28-970786d7c5f7",
   "metadata": {},
   "source": [
    "# Play with merge"
   ]
  },
  {
   "cell_type": "code",
   "execution_count": 6,
   "id": "289f1045-37e1-4b8d-a9db-659a9cff7388",
   "metadata": {},
   "outputs": [],
   "source": [
    "import obspy\n",
    "import numpy as np\n",
    "import xarray as xr\n",
    "import matplotlib.pyplot as plt\n",
    "import pandas as pd\n",
    "import ooipy\n",
    "import datetime\n",
    "\n",
    "%matplotlib inline\n",
    "%config InlineBackend.figure_format = 'svg'"
   ]
  },
  {
   "cell_type": "code",
   "execution_count": 7,
   "id": "fe8df9fc-3ae3-4642-a464-baebc259cf9c",
   "metadata": {},
   "outputs": [],
   "source": [
    "url = 'https://rawdata-west.oceanobservatories.org/files/RS01SBPS/PC01A/08-HYDBBA103/2023/08/10/OO-HYVM2--YDH-2023-08-10T10:00:00.000000Z.mseed'\n",
    "st = obspy.read(url)"
   ]
  },
  {
   "cell_type": "code",
   "execution_count": 9,
   "id": "e0621784-41d0-4296-b573-bad5c10ab310",
   "metadata": {},
   "outputs": [
    {
     "data": {
      "text/plain": [
       "1201"
      ]
     },
     "execution_count": 9,
     "metadata": {},
     "output_type": "execute_result"
    }
   ],
   "source": [
    "len(st)"
   ]
  },
  {
   "cell_type": "code",
   "execution_count": 70,
   "id": "cba49595-387d-4ac3-9a2c-6114f3d180b5",
   "metadata": {},
   "outputs": [
    {
     "name": "stdout",
     "output_type": "stream",
     "text": [
      "valid for gapless merge\n"
     ]
    }
   ],
   "source": [
    "# check if npts is consistent with no gaps in data\n",
    "npts_total = 0\n",
    "for k, tr in enumerate(st):\n",
    "    npts_total += tr.stats.npts\n",
    "if npts_total/64000/60 == 5:\n",
    "    print('valid for gapless merge')"
   ]
  },
  {
   "cell_type": "code",
   "execution_count": 117,
   "id": "ccee3e66-1203-4211-a3e8-40b204df2fd9",
   "metadata": {},
   "outputs": [
    {
     "data": {
      "text/plain": [
       "1 Trace(s) in Stream:\n",
       "OO.HYVM2..YDH | 2023-08-10T10:00:00.000000Z - 2023-08-10T10:04:59.999984Z | 64000.0 Hz, 19200000 samples"
      ]
     },
     "execution_count": 117,
     "metadata": {},
     "output_type": "execute_result"
    }
   ],
   "source": [
    "# merge with no gap consideration (for fragmented hydrophone data)\n",
    "data = []\n",
    "for tr in st:\n",
    "    data.append(tr.data)\n",
    "data_cat = np.concatenate(data)\n",
    "\n",
    "stats = dict(st[0].stats)\n",
    "stats['starttime'] = obspy.UTCDateTime(url[-33:-6])\n",
    "stats['endtime'] = obspy.UTCDateTime(starttime.datetime + datetime.timedelta(minutes=5))\n",
    "stats['npts'] = len(data_cat)\n",
    "\n",
    "obspy.Stream(traces = obspy.Trace(data_cat, header=stats))"
   ]
  },
  {
   "cell_type": "code",
   "execution_count": 16,
   "id": "e70e0fd6-2bf3-47be-955a-d92cd845d9b9",
   "metadata": {},
   "outputs": [],
   "source": []
  },
  {
   "cell_type": "code",
   "execution_count": 54,
   "id": "b69845aa-0e9f-4d5b-8915-0400f7626da5",
   "metadata": {},
   "outputs": [],
   "source": [
    "data_nm = data_cat[:64000*10] - np.mean(data_cat[:64000*10])\n",
    "data_norm = data_nm / np.max(data_nm)"
   ]
  },
  {
   "cell_type": "code",
   "execution_count": 57,
   "id": "94e8af28-574f-4143-9568-bc2660db784b",
   "metadata": {},
   "outputs": [],
   "source": [
    "from scipy import io"
   ]
  },
  {
   "cell_type": "code",
   "execution_count": 58,
   "id": "399d12c1-38dc-4f76-9ad7-02b082c9ea88",
   "metadata": {},
   "outputs": [],
   "source": [
    "io.wavfile.write('test_cat.wav', 64000, data_norm)"
   ]
  },
  {
   "cell_type": "markdown",
   "id": "4e796c25-2794-4a4a-97aa-bb1fb0c37052",
   "metadata": {},
   "source": [
    "# test ooipy method"
   ]
  },
  {
   "cell_type": "code",
   "execution_count": 11,
   "id": "3664b217-cf3b-41c3-b4aa-9c34a36a116c",
   "metadata": {},
   "outputs": [
    {
     "name": "stdout",
     "output_type": "stream",
     "text": [
      "The autoreload extension is already loaded. To reload it, use:\n",
      "  %reload_ext autoreload\n"
     ]
    }
   ],
   "source": [
    "import ooipy\n",
    "from datetime import datetime\n",
    "\n",
    "%load_ext autoreload\n",
    "%autoreload 2"
   ]
  },
  {
   "cell_type": "code",
   "execution_count": 13,
   "id": "dbc85d08-a39b-4b87-a006-66625334d689",
   "metadata": {},
   "outputs": [
    {
     "name": "stdout",
     "output_type": "stream",
     "text": [
      "Fetching URLs...\n",
      "Sorting valid URLs for Time Window...\n",
      "Downloading mseed files...\n"
     ]
    },
    {
     "name": "stderr",
     "output_type": "stream",
     "text": [
      "100%|█████████████████████████████████████████████| 3/3 [00:04<00:00,  1.36s/it]\n"
     ]
    },
    {
     "name": "stdout",
     "output_type": "stream",
     "text": [
      "gapless merge for 1201 Trace(s) in Stream:\n",
      "\n",
      "OO.HYVM2..YDH | 2023-08-10T10:05:00.000016Z - 2023-08-10T10:05:00.085235Z | 64000.0 Hz, 5455 samples\n",
      "...\n",
      "(1199 other traces)\n",
      "...\n",
      "OO.HYVM2..YDH | 2023-08-10T10:05:00.000016Z - 2023-08-10T10:05:00.164766Z | 64000.0 Hz, 10545 samples\n",
      "\n",
      "[Use \"print(Stream.__str__(extended=True))\" to print all Traces]\n",
      "gapless merge for 1201 Trace(s) in Stream:\n",
      "\n",
      "OO.HYVM2..YDH | 2023-08-10T10:00:00.000016Z - 2023-08-10T10:00:00.085235Z | 64000.0 Hz, 5455 samples\n",
      "...\n",
      "(1199 other traces)\n",
      "...\n",
      "OO.HYVM2..YDH | 2023-08-10T10:00:00.000016Z - 2023-08-10T10:00:00.164766Z | 64000.0 Hz, 10545 samples\n",
      "\n",
      "[Use \"print(Stream.__str__(extended=True))\" to print all Traces]\n",
      "gapless merge for 1201 Trace(s) in Stream:\n",
      "\n",
      "OO.HYVM2..YDH | 2023-08-10T09:55:00.000016Z - 2023-08-10T09:55:00.085235Z | 64000.0 Hz, 5455 samples\n",
      "...\n",
      "(1199 other traces)\n",
      "...\n",
      "OO.HYVM2..YDH | 2023-08-10T09:55:00.000016Z - 2023-08-10T09:55:00.164766Z | 64000.0 Hz, 10545 samples\n",
      "\n",
      "[Use \"print(Stream.__str__(extended=True))\" to print all Traces]\n",
      "checking mseed file limit\n",
      "2\n",
      "2\n",
      "2\n",
      "Merging Data...\n"
     ]
    }
   ],
   "source": [
    "starttime = datetime(2023, 8, 10, 10, 2)\n",
    "endtime = datetime(2023, 8, 10, 10, 4)\n",
    "node = 'PC01A'\n",
    "\n",
    "hdata = ooipy.get_acoustic_data(starttime, endtime, node, verbose=True, mseed_file_limit=100, gapless_merge=True)"
   ]
  },
  {
   "cell_type": "code",
   "execution_count": 7,
   "id": "b7303d5e-294b-4980-a912-b6a36fd3e29d",
   "metadata": {},
   "outputs": [
    {
     "data": {
      "text/plain": [
       "'/home/jhrag/Code/ooipy/ooipy/__init__.py'"
      ]
     },
     "execution_count": 7,
     "metadata": {},
     "output_type": "execute_result"
    }
   ],
   "source": [
    "ooipy.__file__"
   ]
  },
  {
   "cell_type": "code",
   "execution_count": null,
   "id": "991e450a-a8a0-4832-a8db-b1245808edcb",
   "metadata": {},
   "outputs": [],
   "source": []
  }
 ],
 "metadata": {
  "kernelspec": {
   "display_name": "Python 3 (ipykernel)",
   "language": "python",
   "name": "python3"
  },
  "language_info": {
   "codemirror_mode": {
    "name": "ipython",
    "version": 3
   },
   "file_extension": ".py",
   "mimetype": "text/x-python",
   "name": "python",
   "nbconvert_exporter": "python",
   "pygments_lexer": "ipython3",
   "version": "3.10.4"
  }
 },
 "nbformat": 4,
 "nbformat_minor": 5
}
