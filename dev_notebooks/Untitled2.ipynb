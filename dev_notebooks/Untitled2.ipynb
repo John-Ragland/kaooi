{
 "cells": [
  {
   "cell_type": "markdown",
   "id": "4f92eaf7-9913-43ec-8324-06dde56ad576",
   "metadata": {},
   "source": [
    "# LF download (no processing)\n",
    "- build out routines to download LF OOI data without any processing"
   ]
  },
  {
   "cell_type": "code",
   "execution_count": 1,
   "id": "da999042-79f3-43b3-8d1f-7cf5a5e3d86a",
   "metadata": {},
   "outputs": [],
   "source": [
    "import kaooi\n",
    "import xarray as xr\n",
    "import numpy as np\n",
    "import matplotlib.pyplot as plt\n",
    "import pandas as pd"
   ]
  },
  {
   "cell_type": "code",
   "execution_count": 3,
   "id": "11d1dd73-5f7b-49ff-9c23-8b71a33dc584",
   "metadata": {},
   "outputs": [],
   "source": [
    "Tx_times = kaooi.get_Tx_keytimes(2023)"
   ]
  },
  {
   "cell_type": "code",
   "execution_count": 2,
   "id": "4eecd19e-8993-427d-989b-a1b7d6e1a413",
   "metadata": {},
   "outputs": [
    {
     "data": {
      "text/plain": [
       "Timedelta('0 days 01:30:00')"
      ]
     },
     "execution_count": 2,
     "metadata": {},
     "output_type": "execute_result"
    }
   ],
   "source": [
    "ds = kaooi.download_data_lf(Tx_times[0], length='1.5H', verbose=True)"
   ]
  },
  {
   "cell_type": "code",
   "execution_count": 4,
   "id": "e6186239-c29a-425f-9a49-2f2206abe51a",
   "metadata": {},
   "outputs": [
    {
     "data": {
      "text/plain": [
       "[{'node': 'AXAS1', 'channel': 'EHZ'},\n",
       " {'node': 'AXAS2', 'channel': 'EHZ'},\n",
       " {'node': 'AXBA1', 'channel': 'HDH'},\n",
       " {'node': 'AXBA1', 'channel': 'HNZ'},\n",
       " {'node': 'AXCC1', 'channel': 'HDH'},\n",
       " {'node': 'AXCC1', 'channel': 'HNZ'},\n",
       " {'node': 'AXEC1', 'channel': 'EHZ'},\n",
       " {'node': 'AXEC2', 'channel': 'HDH'},\n",
       " {'node': 'AXEC2', 'channel': 'HNZ'},\n",
       " {'node': 'AXEC3', 'channel': 'EHZ'},\n",
       " {'node': 'AXID1', 'channel': 'EHZ'},\n",
       " {'node': 'HYS11', 'channel': 'EHZ'},\n",
       " {'node': 'HYS12', 'channel': 'EHZ'},\n",
       " {'node': 'HYS13', 'channel': 'EHZ'},\n",
       " {'node': 'HYS14', 'channel': 'HDH'},\n",
       " {'node': 'HYS14', 'channel': 'HNZ'},\n",
       " {'node': 'HYSB1', 'channel': 'HDH'},\n",
       " {'node': 'HYSB1', 'channel': 'HNZ'}]"
      ]
     },
     "execution_count": 4,
     "metadata": {},
     "output_type": "execute_result"
    }
   ],
   "source": [
    "kaooi.download.devices"
   ]
  },
  {
   "cell_type": "code",
   "execution_count": null,
   "id": "86aee138-1466-41df-9e8b-fd3fd0157aca",
   "metadata": {},
   "outputs": [],
   "source": []
  }
 ],
 "metadata": {
  "kernelspec": {
   "display_name": "Python 3 (ipykernel)",
   "language": "python",
   "name": "python3"
  },
  "language_info": {
   "codemirror_mode": {
    "name": "ipython",
    "version": 3
   },
   "file_extension": ".py",
   "mimetype": "text/x-python",
   "name": "python",
   "nbconvert_exporter": "python",
   "pygments_lexer": "ipython3",
   "version": "3.10.4"
  }
 },
 "nbformat": 4,
 "nbformat_minor": 5
}
