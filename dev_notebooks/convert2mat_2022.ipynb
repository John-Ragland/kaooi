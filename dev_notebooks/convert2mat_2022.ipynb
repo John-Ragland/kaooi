{
 "cells": [
  {
   "cell_type": "markdown",
   "id": "ff0df47e-43bf-4ca5-a550-c4ea8ec15915",
   "metadata": {},
   "source": [
    "# Convert2Mat - 2022"
   ]
  },
  {
   "cell_type": "code",
   "execution_count": 96,
   "id": "e7f4edf1-46bb-4e9c-9ba0-62428ca828fd",
   "metadata": {},
   "outputs": [],
   "source": [
    "from datetime import datetime\n",
    "from scipy import io\n",
    "import obspy\n",
    "import ooipy\n",
    "from tqdm import tqdm\n",
    "import numpy as np"
   ]
  },
  {
   "cell_type": "markdown",
   "id": "90569c5c-312f-40ce-8d1b-e9b05bbe86f4",
   "metadata": {},
   "source": [
    "### Create function to automatically save files\n"
   ]
  },
  {
   "cell_type": "code",
   "execution_count": 107,
   "id": "c8fbc341-749e-436c-a094-9968702f9e83",
   "metadata": {},
   "outputs": [],
   "source": [
    "def convert2mat(start_time, end_time, nodes, node_names, fn, h_type='bb', verbose=True):\n",
    "    '''\n",
    "    convert2mat downloads data using ooipy and converts it to a mat file\n",
    "    \n",
    "    Parameters\n",
    "    ----------\n",
    "    start_time : datetime.datetime\n",
    "    end_time : datetime.datetime\n",
    "    nodes : list\n",
    "        list of nodes to download\n",
    "    node_names : list\n",
    "        keys for dictionary (will be variables names in mat file)\n",
    "        should be same length as nodes\n",
    "    fn : str\n",
    "        filename to save mat file to\n",
    "    h_type : {'bb', 'lf'}\n",
    "        type of hydropone (broadband, lowfrequency)\n",
    "    verbose : bool\n",
    "    \n",
    "    '''\n",
    "    \n",
    "\n",
    "    if verbose:\n",
    "        print('downloading data...')\n",
    "    \n",
    "    data = []\n",
    "    if h_type == 'bb':\n",
    "        for node in tqdm(nodes, disable=~verbose):\n",
    "            data.append(ooipy.get_acoustic_data(start_time, end_time, node))\n",
    "        \n",
    "        if verbose:\n",
    "            print('decimating broadband data...')\n",
    "                          \n",
    "        for x in data:\n",
    "            try:\n",
    "                x.decimate(8).decimate(8)\n",
    "            except AttributeError:\n",
    "                continue\n",
    "    \n",
    "    elif h_type == 'lf':\n",
    "        for node in tqdm(nodes, disable=~verbose):\n",
    "            data.append(ooipy.get_acoustic_data_LF(start_time, end_time, node))\n",
    "    else:\n",
    "        raise Exception(f\"invalid h_type {h_type}, must be 'bb' or 'lf'\")\n",
    "        \n",
    "    # create matlab readable datetimes\n",
    "    attrs = []\n",
    "    for station in data:\n",
    "        try:\n",
    "            attr = dict(station.stats)\n",
    "        except AttributeError:\n",
    "            attrs.append(None)\n",
    "            continue\n",
    "        \n",
    "        attr['starttime'] = attr['starttime'].strftime('%Y-%m-%dT%H:%M:%S.%f')\n",
    "        attr['endtime'] = attr['endtime'].strftime('%Y-%m-%dT%H:%M:%S.%f')\n",
    "\n",
    "        attrs.append(attr)\n",
    "                          \n",
    "    # Save to mat file\n",
    "    ## construct dictionary\n",
    "    names = []\n",
    "    mat_data = []\n",
    "    for k, name in enumerate(node_names):\n",
    "        names.append(name)\n",
    "        names.append(name+'_stats')\n",
    "        try:\n",
    "            mat_data.append(data[k].data)\n",
    "        except AttributeError:\n",
    "            mat_data.append(None)\n",
    "        mat_data.append(attrs[k])\n",
    "\n",
    "    mat_dict = dict(zip(names, mat_data))\n",
    "    mat_dict_nonone = {k: v for k, v in mat_dict.items() if v is not None}\n",
    "    \n",
    "    io.savemat(fn, mat_dict_nonone)\n",
    "    \n",
    "    return"
   ]
  },
  {
   "cell_type": "code",
   "execution_count": 69,
   "id": "9be16502-173c-4097-b17f-1e38b8ffbd2f",
   "metadata": {},
   "outputs": [
    {
     "name": "stdout",
     "output_type": "stream",
     "text": [
      "downloading data...\n",
      "decimating broadband data...\n"
     ]
    }
   ],
   "source": [
    "start_time = datetime(2022,10,28)\n",
    "end_time = datetime(2022,10,28,0,0,1)\n",
    "nodes = ['LJ01C', 'PC01A', 'PC03A']\n",
    "\n",
    "convert2mat(start_time, end_time, nodes, nodes, 'test.mat', h_type='bb')"
   ]
  },
  {
   "cell_type": "markdown",
   "id": "39764335-09f2-4723-938a-97be09069ba0",
   "metadata": {
    "jp-MarkdownHeadingCollapsed": true,
    "tags": []
   },
   "source": [
    "### October 2022"
   ]
  },
  {
   "cell_type": "code",
   "execution_count": 2,
   "id": "d5a8516a-dadd-43d6-b8af-7a3d58ded7d1",
   "metadata": {},
   "outputs": [],
   "source": [
    "start_time = datetime(2022,10,28,2)\n",
    "end_time = datetime(2022,10,28,4)"
   ]
  },
  {
   "cell_type": "code",
   "execution_count": 3,
   "id": "f087cb3e-cbab-4a39-8821-4836220b42cf",
   "metadata": {},
   "outputs": [],
   "source": [
    "nodes_LF = ['Eastern_Caldera', 'Central_Caldera', 'Southern_Hydrate']\n",
    "nodes_BB = ['LJ01C', 'PC01A', 'PC03A']"
   ]
  },
  {
   "cell_type": "code",
   "execution_count": 17,
   "id": "a5f08038-6f25-4c44-8a8b-b5eb38a6fdce",
   "metadata": {},
   "outputs": [
    {
     "name": "stderr",
     "output_type": "stream",
     "text": [
      "  0%|                                                                                                                                              | 0/3 [00:00<?, ?it/s]"
     ]
    },
    {
     "name": "stdout",
     "output_type": "stream",
     "text": [
      "Fetching URLs...\n",
      "Sorting valid URLs for Time Window...\n",
      "Removed large data gap at end of requested time\n",
      "Downloading mseed files...\n"
     ]
    },
    {
     "name": "stderr",
     "output_type": "stream",
     "text": [
      " 33%|████████████████████████████████████████████▋                                                                                         | 1/3 [00:13<00:26, 13.03s/it]"
     ]
    },
    {
     "name": "stdout",
     "output_type": "stream",
     "text": [
      "Fetching URLs...\n",
      "Sorting valid URLs for Time Window...\n",
      "Removed large data gap at end of requested time\n",
      "Downloading mseed files...\n"
     ]
    },
    {
     "name": "stderr",
     "output_type": "stream",
     "text": [
      " 67%|█████████████████████████████████████████████████████████████████████████████████████████▎                                            | 2/3 [00:26<00:13, 13.19s/it]"
     ]
    },
    {
     "name": "stdout",
     "output_type": "stream",
     "text": [
      "Fetching URLs...\n",
      "Sorting valid URLs for Time Window...\n",
      "Removed large data gap at end of requested time\n",
      "Downloading mseed files...\n"
     ]
    },
    {
     "name": "stderr",
     "output_type": "stream",
     "text": [
      "100%|██████████████████████████████████████████████████████████████████████████████████████████████████████████████████████████████████████| 3/3 [00:38<00:00, 12.76s/it]\n"
     ]
    }
   ],
   "source": [
    "bb_data = []\n",
    "for node in tqdm(nodes_BB):\n",
    "    bb_data.append(ooipy.get_acoustic_data(start_time, end_time, node, verbose=True))"
   ]
  },
  {
   "cell_type": "code",
   "execution_count": 18,
   "id": "03af1157-c031-4007-854c-c85acbbdc0c3",
   "metadata": {},
   "outputs": [
    {
     "name": "stderr",
     "output_type": "stream",
     "text": [
      "100%|██████████████████████████████████████████████████████████████████████████████████████████████████████████████████████████████████████| 3/3 [00:09<00:00,  3.14s/it]\n"
     ]
    }
   ],
   "source": [
    "bb_data_dec = []\n",
    "for station in tqdm(bb_data):\n",
    "    bb_data_dec.append(station.decimate(8).decimate(8))"
   ]
  },
  {
   "cell_type": "code",
   "execution_count": 51,
   "id": "00190adb-1610-4bd1-8e13-0821ab2418da",
   "metadata": {},
   "outputs": [],
   "source": [
    "# create matlab readable datetimes\n",
    "attrs_bb = []\n",
    "for station in bb_data_dec:\n",
    "    attr_bb = dict(station.stats)\n",
    "    \n",
    "    attr_bb['starttime'] = attr_bb['starttime'].strftime('%Y-%m-%dT%H:%M:%S.%f')\n",
    "    attr_bb['endtime'] = attr_bb['endtime'].strftime('%Y-%m-%dT%H:%M:%S.%f')\n",
    "    \n",
    "    attrs_bb.append(attr_bb)"
   ]
  },
  {
   "cell_type": "code",
   "execution_count": 52,
   "id": "af48f252-70f5-40b1-9234-49f3fac01359",
   "metadata": {},
   "outputs": [],
   "source": [
    "names = ['oregon_offshore', 'oregon_offshore_stats', 'slope_base_200m', 'slope_base_200m_stats', 'axial_base_200m', 'axial_base_200m_stats']\n",
    "data = [bb_data_dec[0].data, attrs_bb[0], bb_data_dec[1].data, attrs_bb[1], bb_data_dec[2].data, attrs_bb[2]]\n",
    "\n",
    "mat_dict = dict(zip(names, data))\n",
    "\n",
    "io.savemat('oct_2022_broadband.mat', mat_dict)"
   ]
  },
  {
   "cell_type": "code",
   "execution_count": 41,
   "id": "ab5ebebb-1f6e-456f-8aaf-fff7e89c39fc",
   "metadata": {},
   "outputs": [
    {
     "name": "stderr",
     "output_type": "stream",
     "text": [
      "  0%|                                                                                                                                              | 0/3 [00:00<?, ?it/s]"
     ]
    },
    {
     "name": "stdout",
     "output_type": "stream",
     "text": [
      "Downloading mseed file...\n"
     ]
    },
    {
     "name": "stderr",
     "output_type": "stream",
     "text": [
      " 33%|████████████████████████████████████████████▋                                                                                         | 1/3 [00:12<00:24, 12.31s/it]"
     ]
    },
    {
     "name": "stdout",
     "output_type": "stream",
     "text": [
      "Downloading mseed file...\n"
     ]
    },
    {
     "name": "stderr",
     "output_type": "stream",
     "text": [
      " 67%|█████████████████████████████████████████████████████████████████████████████████████████▎                                            | 2/3 [00:24<00:12, 12.05s/it]"
     ]
    },
    {
     "name": "stdout",
     "output_type": "stream",
     "text": [
      "Downloading mseed file...\n"
     ]
    },
    {
     "name": "stderr",
     "output_type": "stream",
     "text": [
      "100%|██████████████████████████████████████████████████████████████████████████████████████████████████████████████████████████████████████| 3/3 [00:36<00:00, 12.18s/it]\n"
     ]
    }
   ],
   "source": [
    "lf_data = []\n",
    "for node in tqdm(nodes_LF):\n",
    "    lf_data.append(ooipy.get_acoustic_data_LF(start_time, end_time, node, verbose=True))"
   ]
  },
  {
   "cell_type": "code",
   "execution_count": 53,
   "id": "5fa9ceff-b2e6-489c-8264-d3153b4a2e92",
   "metadata": {},
   "outputs": [],
   "source": [
    "# create matlab readable datetimes\n",
    "attrs_lf = []\n",
    "for station in lf_data:\n",
    "    attr_lf = dict(station.stats)\n",
    "    \n",
    "    attr_lf['starttime'] = attr_lf['starttime'].strftime('%Y-%m-%dT%H:%M:%S.%f')\n",
    "    attr_lf['endtime'] = attr_lf['endtime'].strftime('%Y-%m-%dT%H:%M:%S.%f')\n",
    "    \n",
    "    attrs_lf.append(attr_lf)"
   ]
  },
  {
   "cell_type": "code",
   "execution_count": 54,
   "id": "630d24a3-db39-4a1f-8a0b-cd4d8cabc4a9",
   "metadata": {},
   "outputs": [],
   "source": [
    "names = ['eastern_caldera', 'eastern_caldera_stats', 'central_caldera', 'central_caldera_stats', 'southern_hydrate', 'southern_hydrate_stats']\n",
    "data = [lf_data[0].data, attrs_lf[0], lf_data[1].data, attrs_lf[1], lf_data[2].data, attrs_lf[2]]\n",
    "\n",
    "mat_dict = dict(zip(names, data))\n",
    "\n",
    "io.savemat('oct_2022_lowfrequency.mat', mat_dict)"
   ]
  },
  {
   "cell_type": "markdown",
   "id": "f58a7443-7912-4288-bf04-dcaeb6e5b511",
   "metadata": {
    "tags": []
   },
   "source": [
    "### December 2022"
   ]
  },
  {
   "cell_type": "code",
   "execution_count": 104,
   "id": "9aa364e2-26ed-4cfb-9d60-ccf497039ca2",
   "metadata": {},
   "outputs": [
    {
     "name": "stdout",
     "output_type": "stream",
     "text": [
      "downloading data...\n",
      "decimating broadband data...\n",
      "downloading data...\n",
      "decimating broadband data...\n",
      "downloading data...\n",
      "decimating broadband data...\n",
      "downloading data...\n",
      "decimating broadband data...\n",
      "downloading data...\n",
      "decimating broadband data...\n",
      "downloading data...\n",
      "decimating broadband data...\n",
      "downloading data...\n",
      "decimating broadband data...\n",
      "downloading data...\n",
      "decimating broadband data...\n"
     ]
    }
   ],
   "source": [
    "for day in range(1,5):\n",
    "\n",
    "    start_time = datetime(2022,12,day,11)\n",
    "    end_time = datetime(2022,12,day,13)\n",
    "\n",
    "    nodes = ['LJ01C', 'PC01A', 'PC03A']\n",
    "    names = ['oregon_offshore', 'slope_base_200m', 'axial_base_200m']\n",
    "    fn = f'2022_12_{day}_1100_broadband.mat'\n",
    "\n",
    "    convert2mat(start_time, end_time, nodes, names, fn, h_type='bb', verbose=True)\n",
    "    \n",
    "    start_time = datetime(2022,12,day,23)\n",
    "    end_time = datetime(2022,12,day+1,1)\n",
    "    fn = f'2022_12_{day}_2300_broadband.mat'\n",
    "\n",
    "    convert2mat(start_time, end_time, nodes, names, fn, h_type='bb', verbose=True)"
   ]
  },
  {
   "cell_type": "code",
   "execution_count": 108,
   "id": "163a8ede-ec1c-4b1a-aad7-8e9f14f5ba11",
   "metadata": {},
   "outputs": [
    {
     "name": "stdout",
     "output_type": "stream",
     "text": [
      "downloading data...\n",
      "downloading data...\n",
      "downloading data...\n",
      "downloading data...\n",
      "downloading data...\n",
      "downloading data...\n",
      "downloading data...\n",
      "downloading data...\n"
     ]
    }
   ],
   "source": [
    "for day in range(1,5):\n",
    "\n",
    "    start_time = datetime(2022,12,day,11)\n",
    "    end_time = datetime(2022,12,day,13)\n",
    "\n",
    "    nodes = ['Eastern_Caldera', 'Central_Caldera', 'Southern_Hydrate']\n",
    "    names = ['easter_caldera', 'central_caldera', 'southern_hydrate']\n",
    "    fn = f'2022_12_{day}_1100_lowfrequency.mat'\n",
    "\n",
    "    convert2mat(start_time, end_time, nodes, names, fn, h_type='lf', verbose=True)\n",
    "    \n",
    "    start_time = datetime(2022,12,day,23)\n",
    "    end_time = datetime(2022,12,day+1,1)\n",
    "    fn = f'2022_12_{day}_2300_lowfrequency.mat'\n",
    "    \n",
    "    convert2mat(start_time, end_time, nodes, names, fn, h_type='lf', verbose=True)"
   ]
  },
  {
   "cell_type": "code",
   "execution_count": null,
   "id": "8c242e6c-d664-4d24-8237-99e6d713b926",
   "metadata": {},
   "outputs": [],
   "source": []
  }
 ],
 "metadata": {
  "kernelspec": {
   "display_name": "Python 3 (ipykernel)",
   "language": "python",
   "name": "python3"
  },
  "language_info": {
   "codemirror_mode": {
    "name": "ipython",
    "version": 3
   },
   "file_extension": ".py",
   "mimetype": "text/x-python",
   "name": "python",
   "nbconvert_exporter": "python",
   "pygments_lexer": "ipython3",
   "version": "3.10.4"
  }
 },
 "nbformat": 4,
 "nbformat_minor": 5
}
