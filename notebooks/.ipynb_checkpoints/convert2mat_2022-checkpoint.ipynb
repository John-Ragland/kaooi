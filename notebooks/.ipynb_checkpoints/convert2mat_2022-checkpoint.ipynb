{
 "cells": [
  {
   "cell_type": "markdown",
   "id": "ff0df47e-43bf-4ca5-a550-c4ea8ec15915",
   "metadata": {},
   "source": [
    "# Convert2Mat - 2022"
   ]
  },
  {
   "cell_type": "code",
   "execution_count": null,
   "id": "e7f4edf1-46bb-4e9c-9ba0-62428ca828fd",
   "metadata": {},
   "outputs": [],
   "source": [
    "from datetime import datetime\n",
    "from scipy import io\n",
    "import obspy\n",
    "import ooipy"
   ]
  },
  {
   "cell_type": "code",
   "execution_count": null,
   "id": "d5a8516a-dadd-43d6-b8af-7a3d58ded7d1",
   "metadata": {},
   "outputs": [],
   "source": []
  }
 ],
 "metadata": {
  "kernelspec": {
   "display_name": "Python 3 (ipykernel)",
   "language": "python",
   "name": "python3"
  },
  "language_info": {
   "codemirror_mode": {
    "name": "ipython",
    "version": 3
   },
   "file_extension": ".py",
   "mimetype": "text/x-python",
   "name": "python",
   "nbconvert_exporter": "python",
   "pygments_lexer": "ipython3",
   "version": "3.10.4"
  }
 },
 "nbformat": 4,
 "nbformat_minor": 5
}
